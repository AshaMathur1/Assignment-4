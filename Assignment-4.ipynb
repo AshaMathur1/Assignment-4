{
 "cells": [
  {
   "cell_type": "code",
   "execution_count": 1,
   "id": "afbcbd67",
   "metadata": {
    "collapsed": true
   },
   "outputs": [],
   "source": [
    "#1. What exactly is []?\n",
    "#[] this is called index brackets, which we use to declare a list. Also we can evaluate the value of an element in a dictionary by using []."
   ]
  },
  {
   "cell_type": "code",
   "execution_count": 16,
   "id": "0781659f",
   "metadata": {},
   "outputs": [
    {
     "data": {
      "text/plain": [
       "[2, 4, 'hello', 8, 10]"
      ]
     },
     "execution_count": 16,
     "metadata": {},
     "output_type": "execute_result"
    }
   ],
   "source": [
    "#2. In a list of values stored in a variable called spam, how would you assign the value 'hello' as the third value? (Assume [2, 4, 6, 8, 10] are in spam.)\n",
    "spam = [2,4,6,8,10]\n",
    "#To insert \"hello\" at third position.\n",
    "spam[2] = 'hello'\n",
    "spam  "
   ]
  },
  {
   "cell_type": "code",
   "execution_count": 17,
   "id": "3f48088d",
   "metadata": {},
   "outputs": [],
   "source": [
    "#Let's pretend the spam includes the list ['a', 'b', 'c', 'd'] for the next three queries."
   ]
  },
  {
   "cell_type": "code",
   "execution_count": 11,
   "id": "2a199c9a",
   "metadata": {},
   "outputs": [],
   "source": [
    "#3. What is the value of spam[int(int('3' * 2) / 11)]?\n",
    "Spam = ['a','b','c','d']"
   ]
  },
  {
   "cell_type": "code",
   "execution_count": 23,
   "id": "38a45564",
   "metadata": {
    "scrolled": true
   },
   "outputs": [
    {
     "data": {
      "text/plain": [
       "3"
      ]
     },
     "execution_count": 23,
     "metadata": {},
     "output_type": "execute_result"
    }
   ],
   "source": [
    "int(int('3'*2)/11)"
   ]
  },
  {
   "cell_type": "code",
   "execution_count": 29,
   "id": "a736a946",
   "metadata": {},
   "outputs": [],
   "source": [
    "#So the value of spam[3] is 'd'."
   ]
  },
  {
   "cell_type": "code",
   "execution_count": 30,
   "id": "043c5046",
   "metadata": {},
   "outputs": [],
   "source": [
    "#4. What is the value of spam[-1]?\n",
    "# spam[-1] ='d'"
   ]
  },
  {
   "cell_type": "code",
   "execution_count": 32,
   "id": "3579ac06",
   "metadata": {},
   "outputs": [],
   "source": [
    "#5. What is the value of spam[:2]?\n",
    " # spam[:2] = ['a','b']"
   ]
  },
  {
   "cell_type": "code",
   "execution_count": 34,
   "id": "3d972352",
   "metadata": {},
   "outputs": [],
   "source": [
    "#Let's pretend bacon has the list [3.14, 'cat,' 11, 'cat,' True] for the next three questions.\n",
    "bacon =[3.14, 'cat',11, 'cat',True]"
   ]
  },
  {
   "cell_type": "code",
   "execution_count": 35,
   "id": "9c9c9c48",
   "metadata": {},
   "outputs": [
    {
     "data": {
      "text/plain": [
       "1"
      ]
     },
     "execution_count": 35,
     "metadata": {},
     "output_type": "execute_result"
    }
   ],
   "source": [
    "#6. What is the value of bacon.index('cat')?\n",
    "bacon.index('cat')"
   ]
  },
  {
   "cell_type": "code",
   "execution_count": 36,
   "id": "85d39611",
   "metadata": {},
   "outputs": [],
   "source": [
    "#7. How does bacon.append(99) change the look of the list value in bacon?\n",
    "bacon.append(99)"
   ]
  },
  {
   "cell_type": "code",
   "execution_count": 37,
   "id": "31b3fc90",
   "metadata": {},
   "outputs": [
    {
     "data": {
      "text/plain": [
       "[3.14, 'cat', 11, 'cat', True, 99]"
      ]
     },
     "execution_count": 37,
     "metadata": {},
     "output_type": "execute_result"
    }
   ],
   "source": [
    "bacon"
   ]
  },
  {
   "cell_type": "code",
   "execution_count": 38,
   "id": "d2f6f73d",
   "metadata": {},
   "outputs": [],
   "source": [
    "#8. How does bacon.remove('cat') change the look of the list in bacon?\n",
    "bacon.remove('cat') #It removed the element 'cat' from the first occurence."
   ]
  },
  {
   "cell_type": "code",
   "execution_count": 39,
   "id": "cd316949",
   "metadata": {},
   "outputs": [
    {
     "data": {
      "text/plain": [
       "[3.14, 11, 'cat', True, 99]"
      ]
     },
     "execution_count": 39,
     "metadata": {},
     "output_type": "execute_result"
    }
   ],
   "source": [
    "bacon"
   ]
  },
  {
   "cell_type": "code",
   "execution_count": 40,
   "id": "cd6b70c3",
   "metadata": {},
   "outputs": [],
   "source": [
    "#9. What are the list concatenation and list replication operators?\n",
    "# List concatenation operator is '+' it can add the whole one list behind the other. \n",
    "# And list replication operator is '*' , it replicatets the list as many times as we want."
   ]
  },
  {
   "cell_type": "code",
   "execution_count": 41,
   "id": "fb04009b",
   "metadata": {},
   "outputs": [],
   "source": [
    "#10. What is difference between the list methods append() and insert()?\n",
    "# append() is used to add something in the last of the list while insert() is used to insert something at any position of the list."
   ]
  },
  {
   "cell_type": "code",
   "execution_count": 8,
   "id": "902c060f",
   "metadata": {},
   "outputs": [],
   "source": [
    "#11. What are the two methods for removing items from a list?\n",
    "# We can use below methods to remove items from a list - \n",
    "# 1. Remove - This is used to remove any particular item from the list.\n",
    "# 2. pop - This is to delete and show that one selected item which we want to delete out of list.\n",
    "# 3. Delete - It removes items by index\n",
    "# 4. Clear - it clears the list."
   ]
  },
  {
   "cell_type": "code",
   "execution_count": 9,
   "id": "27eda621",
   "metadata": {},
   "outputs": [],
   "source": [
    "# 12. Describe how list values and string values are identical.\n",
    "#Both are sequences, so can be said identical."
   ]
  },
  {
   "cell_type": "code",
   "execution_count": 10,
   "id": "1df53484",
   "metadata": {},
   "outputs": [],
   "source": [
    "#13. What's the difference between tuples and lists?\n",
    "# Tuples are immutable while list is mutable, tuples are more memory efficient,they can't be modified, while list can be modified."
   ]
  },
  {
   "cell_type": "code",
   "execution_count": 11,
   "id": "51b17d76",
   "metadata": {},
   "outputs": [],
   "source": [
    "#14. How do you type a tuple value that only contains the integer 42?\n",
    "#To type a tuple with only one element, we need to place comma after the value in parenthesis, so that python recognise it as a tuple.\n",
    "# t =(42,)"
   ]
  },
  {
   "cell_type": "code",
   "execution_count": 12,
   "id": "03a298fa",
   "metadata": {},
   "outputs": [],
   "source": [
    "#15. How do you get a list value's tuple form? How do you get a tuple value's list form?\n",
    "#We can convert a tuple into list by using inbuilt list() function and passing tuple as parameter into it.\n",
    "#Also we can convert a list into tuple by using built in function tuple() and passing list as parameter into it."
   ]
  },
  {
   "cell_type": "code",
   "execution_count": 13,
   "id": "575fc9fb",
   "metadata": {},
   "outputs": [],
   "source": [
    "#16. Variables that \"contain\" list values are not necessarily lists themselves. Instead, what do they contain?\n",
    "# Variables that contain list values are not necessarily lists themselves, as lists can be stored in other datatypes as well, like tuples.List can be an element inside a tuple."
   ]
  },
  {
   "cell_type": "code",
   "execution_count": null,
   "id": "c3c05b7b",
   "metadata": {},
   "outputs": [],
   "source": [
    "#17. How do you distinguish between copy.copy() and copy.deepcopy()?\n",
    "# copy.copy() creates the copy of original object, and if we make any changes in copied object, they will reflect in original object as well.\n",
    "# copy.deepcopy() creates the copy of original object, and if we make any changes in copied object, they will not reflect in original object."
   ]
  }
 ],
 "metadata": {
  "kernelspec": {
   "display_name": "Python 3 (ipykernel)",
   "language": "python",
   "name": "python3"
  },
  "language_info": {
   "codemirror_mode": {
    "name": "ipython",
    "version": 3
   },
   "file_extension": ".py",
   "mimetype": "text/x-python",
   "name": "python",
   "nbconvert_exporter": "python",
   "pygments_lexer": "ipython3",
   "version": "3.9.7"
  }
 },
 "nbformat": 4,
 "nbformat_minor": 5
}
